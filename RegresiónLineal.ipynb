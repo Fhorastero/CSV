{
  "nbformat": 4,
  "nbformat_minor": 0,
  "metadata": {
    "colab": {
      "provenance": [],
      "authorship_tag": "ABX9TyPgfSxLa6qErTyUy5aN0otV",
      "include_colab_link": true
    },
    "kernelspec": {
      "name": "python3",
      "display_name": "Python 3"
    },
    "language_info": {
      "name": "python"
    }
  },
  "cells": [
    {
      "cell_type": "markdown",
      "metadata": {
        "id": "view-in-github",
        "colab_type": "text"
      },
      "source": [
        "<a href=\"https://colab.research.google.com/github/Fhorastero/CSV/blob/main/Regresi%C3%B3nLineal.ipynb\" target=\"_parent\"><img src=\"https://colab.research.google.com/assets/colab-badge.svg\" alt=\"Open In Colab\"/></a>"
      ]
    },
    {
      "cell_type": "code",
      "execution_count": null,
      "metadata": {
        "id": "awk5yXVdijUM"
      },
      "outputs": [],
      "source": [
        "import numpy as np\n",
        "import pandas as pd\n",
        "import seaborn as sb\n",
        "import matplotlib.pyplot as plt\n",
        "%matplotlib inline\n",
        "from mpl_toolkits.mplot3d import Axes3D\n",
        "from matplotlib import cm\n",
        "plt.rcParams['figure.figsize'] = (16, 9)\n",
        "plt.style.use('ggplot')\n",
        "from sklearn import linear_model\n",
        "from sklearn.metrics import mean_squared_error, r2_score\n",
        "\n",
        "datos = pd.read_csv('/content/articulos_ml.csv')\n",
        "#datos.head()\n",
        "#datos.describe()\n",
        "datos.drop(['Title', 'url', 'Elapsed days'], axis = 1).hist()\n",
        "plt.show()"
      ]
    },
    {
      "cell_type": "code",
      "source": [
        "datos_filtrados = datos[(datos['Word count'] <= 3500) & (datos['# Shares'] <= 8000)]\n",
        "\n",
        "colores = ['orange', 'blue']\n",
        "tamanios = [30, 60]\n",
        "\n",
        "f1 = datos_filtrados['Word count'].values\n",
        "f2 = datos_filtrados['# Shares'].values\n",
        "\n",
        "asignar = []\n",
        "for index, row in datos_filtrados.iterrows():\n",
        "  if(row['Word count'] > 1808):\n",
        "    asignar.append(colores[0])\n",
        "  else:\n",
        "    asignar.append(colores[1])\n",
        "\n",
        "plt.scatter(f1, f2, c=asignar, s=tamanios[0])\n",
        "plt.show()"
      ],
      "metadata": {
        "id": "Lpnhf3mHkKzk"
      },
      "execution_count": null,
      "outputs": []
    },
    {
      "cell_type": "code",
      "source": [
        "datosX = datos_filtrados[['Word count']]\n",
        "X_train = np.array(datosX)\n",
        "Y_train = datos_filtrados['# Shares'].values\n",
        "\n",
        "regr = linear_model.LinearRegression()\n",
        "\n",
        "regr.fit(X_train, Y_train)\n",
        "\n",
        "y_pred = regr.predict(X_train)\n",
        "\n",
        "print(\"Coeficientes: \", regr.coef_, \"\\n\")\n",
        "print(\"Termino independiente: \", regr.intercept_, \"\\n\")\n",
        "print(\"Error cuadrático medio: %.2f\" %mean_squared_error(Y_train, y_pred), \"\\n\")\n",
        "print(\"Varianza: %2.f\" % r2_score(Y_train, y_pred), \"\\n\")"
      ],
      "metadata": {
        "id": "9pbJB4IQk2uR"
      },
      "execution_count": null,
      "outputs": []
    },
    {
      "cell_type": "code",
      "source": [
        "y_Dosmil = regr.predict([[2000]])\n",
        "print(int(y_Dosmil))"
      ],
      "metadata": {
        "colab": {
          "base_uri": "https://localhost:8080/"
        },
        "id": "h5MxuLTiPw95",
        "outputId": "99325e7a-e3eb-4dd1-f9d4-1dc0d7f273c0"
      },
      "execution_count": 6,
      "outputs": [
        {
          "output_type": "stream",
          "name": "stdout",
          "text": [
            "2101\n"
          ]
        },
        {
          "output_type": "stream",
          "name": "stderr",
          "text": [
            "<ipython-input-6-7cecc9f6aa16>:2: DeprecationWarning: Conversion of an array with ndim > 0 to a scalar is deprecated, and will error in future. Ensure you extract a single element from your array before performing this operation. (Deprecated NumPy 1.25.)\n",
            "  print(int(y_Dosmil))\n"
          ]
        }
      ]
    },
    {
      "cell_type": "markdown",
      "source": [
        "**RL Múltiple**"
      ],
      "metadata": {
        "id": "GlxzpV6OgO4X"
      }
    },
    {
      "cell_type": "code",
      "source": [
        "suma = (datos_filtrados[\"# of Links\"] + datos_filtrados[\"# of comments\"].fillna(0) + datos_filtrados[\"# Images video\"])\n",
        "\n",
        "dataX2 = pd.DataFrame()\n",
        "dataX2 [\"Word count\"] = datos_filtrados[\"Word count\"]\n",
        "dataX2 [\"suma\"] = suma\n",
        "XY_train = np.array(dataX2)\n",
        "z_train = datos_filtrados[\"# Shares\"].values"
      ],
      "metadata": {
        "id": "vjn9gE7GVeAo"
      },
      "execution_count": 9,
      "outputs": []
    },
    {
      "cell_type": "code",
      "source": [
        "# Nuevo objeto de RL\n",
        "regr2 = linear_model.LinearRegression()\n",
        "\n",
        "# Entrenamiento con dos dimensiones, resultado = 2 coeficientes para graf el plano\n",
        "regr2.fit(XY_train, z_train)\n",
        "\n",
        "# Predicción\n",
        "z_pred = regr2.predict(XY_train)\n",
        "\n",
        "print(\"Coeficientes: \", regr2.coef_, \"\\n\")\n",
        "print(\"Error cuadrático medio: %2.f\" % mean_squared_error(z_train, z_pred),\"\\n\")\n",
        "print(\"Varianza: %2.f\" % r2_score(z_train, z_pred))"
      ],
      "metadata": {
        "colab": {
          "base_uri": "https://localhost:8080/"
        },
        "id": "WNNutBcNg2VG",
        "outputId": "03c7bb55-3b50-4ac1-aeb0-8f755ef60a17"
      },
      "execution_count": 17,
      "outputs": [
        {
          "output_type": "stream",
          "name": "stdout",
          "text": [
            "Coeficientes:  [ -0.23579713 -14.36592019] \n",
            "\n",
            "Error cuadrático medio: 3118860 \n",
            "\n",
            "Varianza:  0\n"
          ]
        }
      ]
    }
  ]
}