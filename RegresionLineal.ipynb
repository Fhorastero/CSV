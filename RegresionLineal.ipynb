{
  "nbformat": 4,
  "nbformat_minor": 0,
  "metadata": {
    "colab": {
      "provenance": [],
      "authorship_tag": "ABX9TyNWBNPhXyzrlloS1trsjZ9A",
      "include_colab_link": true
    },
    "kernelspec": {
      "name": "python3",
      "display_name": "Python 3"
    },
    "language_info": {
      "name": "python"
    }
  },
  "cells": [
    {
      "cell_type": "markdown",
      "metadata": {
        "id": "view-in-github",
        "colab_type": "text"
      },
      "source": [
        "<a href=\"https://colab.research.google.com/github/Fhorastero/CSV/blob/main/RegresionLineal.ipynb\" target=\"_parent\"><img src=\"https://colab.research.google.com/assets/colab-badge.svg\" alt=\"Open In Colab\"/></a>"
      ]
    },
    {
      "cell_type": "code",
      "execution_count": 6,
      "metadata": {
        "id": "wHDFfD-KYo2e",
        "colab": {
          "base_uri": "https://localhost:8080/"
        },
        "outputId": "ea357d17-bedc-4a41-f71e-4db73a466b9a"
      },
      "outputs": [
        {
          "output_type": "stream",
          "name": "stderr",
          "text": [
            "UsageError: unrecognized arguments: line\n"
          ]
        }
      ],
      "source": [
        "import numpy as np\n",
        "import pandas as pd\n",
        "import seaborn as sns\n",
        "import matplotlib.pyplot as plt\n",
        "%matplotlib in line\n",
        "from matplotlibe import cm\n",
        "plt.rcParams['figure.size'] = (16, 9)\n",
        "plt.style.use(\"ggplot\")\n",
        "from sklearn import lineal_model\n",
        "from sklearn.metrics import mean_squared_error, r2_score\n",
        "\n",
        "#carga de archivo CSV y ver su tamaño\n",
        "data = pd.read_csv(\"/content/articulos_ml.csv\")\n",
        "data.shape"
      ]
    }
  ]
}